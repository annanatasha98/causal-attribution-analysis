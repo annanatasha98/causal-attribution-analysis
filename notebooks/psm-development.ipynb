{
 "cells": [
  {
   "cell_type": "code",
   "execution_count": 1,
   "metadata": {},
   "outputs": [
    {
     "name": "stderr",
     "output_type": "stream",
     "text": [
      "/Users/annanatasha/Documents/DSO 585 Consulting/causal-attribution-analysis/venv/lib/python3.9/site-packages/tqdm/auto.py:21: TqdmWarning: IProgress not found. Please update jupyter and ipywidgets. See https://ipywidgets.readthedocs.io/en/stable/user_install.html\n",
      "  from .autonotebook import tqdm as notebook_tqdm\n"
     ]
    }
   ],
   "source": [
    "#Imports\n",
    "import sys\n",
    "\n",
    "import pandas as pd # type: ignore\n",
    "import numpy as np # type: ignore\n",
    "\n",
    "import matplotlib.pyplot as plt # type: ignore\n",
    "import seaborn as sns # type: ignore\n",
    "\n",
    "import networkx as nx # type: ignore\n",
    "import graphviz # type: ignore\n",
    "\n",
    "import statsmodels.formula.api as smf # type: ignore\n",
    "import statsmodels.api # type: ignore\n",
    "from statsmodels.miscmodels.ordinal_model import OrderedModel # type: ignore\n",
    "\n",
    "from dowhy import CausalModel, gcm # type: ignore\n",
    "\n",
    "from sklearn.linear_model import LogisticRegression # type: ignore\n",
    "from sklearn.neighbors import NearestNeighbors # type: ignore\n",
    "\n",
    "import warnings\n",
    "warnings.filterwarnings(\"ignore\")\n",
    "pd.set_option('display.max_columns', None)"
   ]
  },
  {
   "cell_type": "code",
   "execution_count": 2,
   "metadata": {},
   "outputs": [
    {
     "data": {
      "image/png": "[encoded data removed]",
      "text/latex": [
       "$\\displaystyle \\left( 119143, \\  15\\right)$"
      ],
      "text/plain": [
       "(119143, 15)"
      ]
     },
     "execution_count": 2,
     "metadata": {},
     "output_type": "execute_result"
    }
   ],
   "source": [
    "df = pd.read_csv(\"../data/processed/data.csv\")\n",
    "df.shape"
   ]
  },
  {
   "cell_type": "markdown",
   "metadata": {},
   "source": [
    "## Propensity Score Matching (Outcome is payment_value)"
   ]
  },
  {
   "cell_type": "code",
   "execution_count": null,
   "metadata": {},
   "outputs": [],
   "source": [
    "# Define covariates, treatment, and outcome\n",
    "covariates = ['Product_category', 'season', 'Product_size', 'freight_value', 'distance_km']\n",
    "treatment = 'is_delivery_late'\n",
    "outcome = 'payment_value'"
   ]
  },
  {
   "cell_type": "code",
   "execution_count": null,
   "metadata": {},
   "outputs": [],
   "source": [
    "# Step 1: Build the causal model\n",
    "# We specify the treatment, outcome, and confounders in the model.\n",
    "model = CausalModel(\n",
    "    data=df,\n",
    "    treatment=treatment,\n",
    "    outcome=outcome,\n",
    "    common_causes=covariates\n",
    ")\n",
    "\n",
    "# Step 2: View the graphical model (optional)\n",
    "# This visualizes the causal structure and how variables are related.\n",
    "model.view_model()"
   ]
  },
  {
   "cell_type": "code",
   "execution_count": null,
   "metadata": {},
   "outputs": [],
   "source": [
    "# Step 3: Identify the causal effect\n",
    "# Specify how to estimate the causal effect. Here we use matching with propensity scores.\n",
    "identified_estimand = model.identify_effect()\n",
    "print(identified_estimand)"
   ]
  },
  {
   "cell_type": "code",
   "execution_count": null,
   "metadata": {},
   "outputs": [],
   "source": [
    "# Step 4: Estimate the treatment effect using propensity score matching\n",
    "# This will estimate the causal effect using Propensity Score Matching (PSM).\n",
    "estimate = model.estimate_effect(\n",
    "    identified_estimand,\n",
    "    method_name=\"backdoor.propensity_score_matching\"\n",
    ")"
   ]
  },
  {
   "cell_type": "code",
   "execution_count": null,
   "metadata": {},
   "outputs": [],
   "source": [
    "# Step 5: View the results\n",
    "# This will show the average treatment effect (ATE) of late deliveries on review scores.\n",
    "print(estimate)"
   ]
  },
  {
   "cell_type": "code",
   "execution_count": null,
   "metadata": {},
   "outputs": [],
   "source": [
    "# Display the causal estimate, confidence intervals, and standard error\n",
    "print(\"Causal Estimate (ATE):\", estimate.value)"
   ]
  },
  {
   "cell_type": "code",
   "execution_count": null,
   "metadata": {},
   "outputs": [],
   "source": [
    "print(\"Confidence Interval:\", estimate.get_confidence_intervals())"
   ]
  },
  {
   "cell_type": "code",
   "execution_count": null,
   "metadata": {},
   "outputs": [],
   "source": [
    "#print(\"Confidence Interval:\", estimate.get_confidence_intervals())\n",
    "print(\"Standard Error:\", estimate.get_standard_error())"
   ]
  },
  {
   "cell_type": "code",
   "execution_count": null,
   "metadata": {},
   "outputs": [],
   "source": [
    "# Add an unobserved confounder and see how the treatment effect changes\n",
    "refutation_unobserved_confounding = model.refute_estimate(\n",
    "    identified_estimand,\n",
    "    estimate,\n",
    "    method_name=\"add_unobserved_common_cause\"\n",
    ")\n",
    "\n",
    "# Display the refutation results\n",
    "print(refutation_unobserved_confounding)"
   ]
  },
  {
   "cell_type": "code",
   "execution_count": null,
   "metadata": {},
   "outputs": [],
   "source": [
    "# Estimate ATT using DoWhy\n",
    "estimate_ATT = model.estimate_effect(\n",
    "    identified_estimand,\n",
    "    method_name=\"backdoor.propensity_score_matching\",\n",
    "    target_units=\"att\"  # Specify that we are interested in the ATT (treated units)\n",
    ")\n",
    "\n",
    "# Display the ATT\n",
    "print(\"ATT (Average Treatment effect on the Treated):\", estimate_ATT.value)"
   ]
  },
  {
   "cell_type": "code",
   "execution_count": null,
   "metadata": {},
   "outputs": [],
   "source": [
    "# Estimate ATC using DoWhy\n",
    "estimate_ATC = model.estimate_effect(\n",
    "    identified_estimand,\n",
    "    method_name=\"backdoor.propensity_score_matching\",\n",
    "    target_units=\"atc\"  # Specify that we are interested in the ATC (control units)\n",
    "    #ATC is where is_delivery_late = 0, so what would the outcome have been for those who didn't experience a delayed delivery, if they had\n",
    ")\n",
    "\n",
    "# Display the ATC\n",
    "print(\"ATC (Average Treatment effect on the Controls):\", estimate_ATC.value)"
   ]
  }
 ],
 "metadata": {
  "kernelspec": {
   "display_name": "venv",
   "language": "python",
   "name": "python3"
  },
  "language_info": {
   "codemirror_mode": {
    "name": "ipython",
    "version": 3
   },
   "file_extension": ".py",
   "mimetype": "text/x-python",
   "name": "python",
   "nbconvert_exporter": "python",
   "pygments_lexer": "ipython3",
   "version": "3.9.6"
  }
 },
 "nbformat": 4,
 "nbformat_minor": 2
}
