{
 "cells": [
  {
   "cell_type": "code",
   "execution_count": 2,
   "metadata": {},
   "outputs": [],
   "source": [
    "# Imports\n",
    "import pandas as pd # type: ignore\n",
    "import numpy as np # type: ignore\n",
    "\n",
    "# viz\n",
    "import matplotlib.pyplot as plt\n",
    "import seaborn as sns # type: ignore\n",
    "import networkx as nx # type: ignore\n",
    "\n",
    "# utils\n",
    "import sys\n",
    "sys.path.append('../')\n",
    "\n",
    "from src.data.make_dataset import load_data\n",
    "\n",
    "pd.set_option('display.max_columns', None)\n",
    "plt.style.use('fivethirtyeight')"
   ]
  },
  {
   "cell_type": "code",
   "execution_count": 3,
   "metadata": {},
   "outputs": [],
   "source": [
    "# Loading Data\n",
    "data_dict = load_data()\n",
    "\n",
    "olist_customers_df = data_dict['olist_customers_df']\n",
    "olist_geolocation_df = data_dict['olist_geolocation_df']\n",
    "olist_order_items_df = data_dict['olist_order_items_df']\n",
    "olist_order_payments_df = data_dict['olist_order_payments_df']\n",
    "olist_order_reviews_df = data_dict['olist_order_reviews_df']\n",
    "olist_orders_df = data_dict['olist_orders_df']\n",
    "olist_products_df = data_dict['olist_products_df']\n",
    "olist_sellers_df = data_dict['olist_sellers_df']\n",
    "product_category_name_translation_df = data_dict['product_category_name_translation_df']\n",
    "\n",
    "olist_closed_deals_df = data_dict['olist_closed_deals_df']\n",
    "olist_marketing_qualified_leads_df = data_dict['olist_marketing_qualified_leads_df']"
   ]
  },
  {
   "cell_type": "code",
   "execution_count": 4,
   "metadata": {},
   "outputs": [],
   "source": [
    "# Change purchase timestamp to datetime format\n",
    "olist_orders_df['order_purchase_timestamp'] = pd.to_datetime(olist_orders_df['order_purchase_timestamp'])\n",
    "olist_orders_df['order_purchase_date'] = olist_orders_df['order_purchase_timestamp'].dt.date\n",
    "olist_orders_df['order_purchase_month'] = olist_orders_df['order_purchase_timestamp'].dt.month\n",
    "olist_orders_df['order_purchase_year'] = olist_orders_df['order_purchase_timestamp'].dt.year"
   ]
  },
  {
   "cell_type": "code",
   "execution_count": 5,
   "metadata": {},
   "outputs": [],
   "source": [
    "# Merge into one dataset \n",
    "# ToDo: turn into function\n",
    "\n",
    "df = olist_orders_df.merge(olist_order_items_df, on='order_id', how='left')\n",
    "df = df.merge(olist_order_payments_df, on='order_id', how='outer', validate='m:m')\n",
    "df = df.merge(olist_order_reviews_df, on='order_id', how='outer')\n",
    "df = df.merge(olist_products_df, on='product_id', how='outer')\n",
    "df = df.merge(olist_customers_df, on='customer_id', how='outer')\n",
    "df = df.merge(olist_sellers_df, on='seller_id', how='outer')\n",
    "\n",
    "# Joining marketing data\n",
    "df = df.merge(olist_closed_deals_df, on='seller_id', how='left')\n",
    "df = df.merge(olist_marketing_qualified_leads_df, on='mql_id', how='left')\n",
    "\n",
    "# Add the latitude and longitude for each customer's zip codes\n",
    "df = df.merge(olist_geolocation_df[['geolocation_zip_code_prefix', 'geolocation_lat', 'geolocation_lng']], \n",
    "              left_on='customer_zip_code_prefix', \n",
    "              right_on='geolocation_zip_code_prefix', \n",
    "              how='left', suffixes=('', '_customer'))\n"
   ]
  },
  {
   "cell_type": "code",
   "execution_count": 7,
   "metadata": {},
   "outputs": [
    {
     "ename": "",
     "evalue": "",
     "output_type": "error",
     "traceback": [
      "\u001b[1;31mThe Kernel crashed while executing code in the current cell or a previous cell. \n",
      "\u001b[1;31mPlease review the code in the cell(s) to identify a possible cause of the failure. \n",
      "\u001b[1;31mClick <a href='https://aka.ms/vscodeJupyterKernelCrash'>here</a> for more info. \n",
      "\u001b[1;31mView Jupyter <a href='command:jupyter.viewOutput'>log</a> for further details."
     ]
    }
   ],
   "source": [
    "# Add the latitude and longitude for each seller's zip codes\n",
    "df = df.merge(olist_geolocation_df[['geolocation_zip_code_prefix', 'geolocation_lat', 'geolocation_lng']], \n",
    "              left_on='seller_zip_code_prefix', \n",
    "              right_on='geolocation_zip_code_prefix', \n",
    "              how='left', suffixes=('_customer', '_seller'))"
   ]
  },
  {
   "cell_type": "code",
   "execution_count": 1,
   "metadata": {},
   "outputs": [
    {
     "ename": "NameError",
     "evalue": "name 'df' is not defined",
     "output_type": "error",
     "traceback": [
      "\u001b[0;31m---------------------------------------------------------------------------\u001b[0m",
      "\u001b[0;31mNameError\u001b[0m                                 Traceback (most recent call last)",
      "Cell \u001b[0;32mIn[1], line 1\u001b[0m\n\u001b[0;32m----> 1\u001b[0m df_small \u001b[38;5;241m=\u001b[39m \u001b[43mdf\u001b[49m\u001b[38;5;241m.\u001b[39mhead(\u001b[38;5;241m1000\u001b[39m)  \u001b[38;5;66;03m# Get the first 1000 rows\u001b[39;00m\n\u001b[1;32m      2\u001b[0m df_small \u001b[38;5;241m=\u001b[39m df_small\u001b[38;5;241m.\u001b[39mmerge(olist_geolocation_df[[\u001b[38;5;124m'\u001b[39m\u001b[38;5;124mgeolocation_zip_code_prefix\u001b[39m\u001b[38;5;124m'\u001b[39m, \u001b[38;5;124m'\u001b[39m\u001b[38;5;124mgeolocation_lat\u001b[39m\u001b[38;5;124m'\u001b[39m, \u001b[38;5;124m'\u001b[39m\u001b[38;5;124mgeolocation_lng\u001b[39m\u001b[38;5;124m'\u001b[39m]], \n\u001b[1;32m      3\u001b[0m                           left_on\u001b[38;5;241m=\u001b[39m\u001b[38;5;124m'\u001b[39m\u001b[38;5;124mseller_zip_code_prefix\u001b[39m\u001b[38;5;124m'\u001b[39m, \n\u001b[1;32m      4\u001b[0m                           right_on\u001b[38;5;241m=\u001b[39m\u001b[38;5;124m'\u001b[39m\u001b[38;5;124mgeolocation_zip_code_prefix\u001b[39m\u001b[38;5;124m'\u001b[39m, \n\u001b[1;32m      5\u001b[0m                           how\u001b[38;5;241m=\u001b[39m\u001b[38;5;124m'\u001b[39m\u001b[38;5;124mleft\u001b[39m\u001b[38;5;124m'\u001b[39m, suffixes\u001b[38;5;241m=\u001b[39m(\u001b[38;5;124m'\u001b[39m\u001b[38;5;124m_customer\u001b[39m\u001b[38;5;124m'\u001b[39m, \u001b[38;5;124m'\u001b[39m\u001b[38;5;124m_seller\u001b[39m\u001b[38;5;124m'\u001b[39m))\n",
      "\u001b[0;31mNameError\u001b[0m: name 'df' is not defined"
     ]
    }
   ],
   "source": [
    "df_small = df.head(1000)  # Get the first 1000 rows\n",
    "df_small = df_small.merge(olist_geolocation_df[['geolocation_zip_code_prefix', 'geolocation_lat', 'geolocation_lng']], \n",
    "                          left_on='seller_zip_code_prefix', \n",
    "                          right_on='geolocation_zip_code_prefix', \n",
    "                          how='left', suffixes=('_customer', '_seller'))"
   ]
  },
  {
   "cell_type": "markdown",
   "metadata": {},
   "source": [
    "### Variables"
   ]
  },
  {
   "cell_type": "code",
   "execution_count": 10,
   "metadata": {},
   "outputs": [],
   "source": [
    "# Seasonality\n",
    "df['seasonality'] = df['order_purchase_timestamp'].dt.month"
   ]
  },
  {
   "cell_type": "code",
   "execution_count": 11,
   "metadata": {},
   "outputs": [],
   "source": [
    "# Product Dimensions\n",
    "df['product_dimensions'] = df['product_length_cm'] * df['product_height_cm'] * df['product_width_cm']"
   ]
  },
  {
   "cell_type": "code",
   "execution_count": 13,
   "metadata": {},
   "outputs": [],
   "source": [
    "# Product Weight (in kg)\n",
    "df['product_weight_kg'] = df['product_weight_g']/1000"
   ]
  },
  {
   "cell_type": "code",
   "execution_count": 12,
   "metadata": {},
   "outputs": [],
   "source": [
    "# Has photos\n",
    "df['has_photos'] = df['product_photos_qty'].apply(lambda x: 1 if x > 0 else 0)"
   ]
  },
  {
   "cell_type": "code",
   "execution_count": null,
   "metadata": {},
   "outputs": [],
   "source": [
    "#Previous Review Score for the Same Product\n",
    "df = df.sort_values(by=['product_id', 'order_purchase_timestamp'])\n",
    "\n",
    "df['previous_review_score'] = df.groupby('product_id')['review_score'].shift(1)"
   ]
  },
  {
   "cell_type": "code",
   "execution_count": 16,
   "metadata": {},
   "outputs": [
    {
     "name": "stdout",
     "output_type": "stream",
     "text": [
      "Collecting geopy\n",
      "  Downloading geopy-2.4.1-py3-none-any.whl.metadata (6.8 kB)\n",
      "Collecting geographiclib<3,>=1.52 (from geopy)\n",
      "  Downloading geographiclib-2.0-py3-none-any.whl.metadata (1.4 kB)\n",
      "Downloading geopy-2.4.1-py3-none-any.whl (125 kB)\n",
      "Downloading geographiclib-2.0-py3-none-any.whl (40 kB)\n",
      "Installing collected packages: geographiclib, geopy\n",
      "Successfully installed geographiclib-2.0 geopy-2.4.1\n",
      "Note: you may need to restart the kernel to use updated packages.\n"
     ]
    }
   ],
   "source": [
    "pip install geopy"
   ]
  },
  {
   "cell_type": "code",
   "execution_count": 17,
   "metadata": {},
   "outputs": [
    {
     "ename": "",
     "evalue": "",
     "output_type": "error",
     "traceback": [
      "\u001b[1;31mThe Kernel crashed while executing code in the current cell or a previous cell. \n",
      "\u001b[1;31mPlease review the code in the cell(s) to identify a possible cause of the failure. \n",
      "\u001b[1;31mClick <a href='https://aka.ms/vscodeJupyterKernelCrash'>here</a> for more info. \n",
      "\u001b[1;31mView Jupyter <a href='command:jupyter.viewOutput'>log</a> for further details."
     ]
    }
   ],
   "source": [
    "# Distance (in km) \n",
    "from geopy.distance import geodesic\n",
    "\n",
    "# Function to calculate distance between two sets of coordinates\n",
    "def calculate_distance(row):\n",
    "    customer_coords = (row['geolocation_lat_customer'], row['geolocation_lng_customer'])\n",
    "    seller_coords = (row['geolocation_lat_seller'], row['geolocation_lng_seller'])\n",
    "    \n",
    "    # If either coordinate is missing, return NaN\n",
    "    if None in customer_coords or None in seller_coords:\n",
    "        return None\n",
    "    \n",
    "    return geodesic(customer_coords, seller_coords).kilometers"
   ]
  },
  {
   "cell_type": "code",
   "execution_count": null,
   "metadata": {},
   "outputs": [],
   "source": [
    "# Apply the distance calculation\n",
    "df['buyer_seller_distance_km'] = df.apply(calculate_distance, axis=1)"
   ]
  }
 ],
 "metadata": {
  "kernelspec": {
   "display_name": "venv",
   "language": "python",
   "name": "python3"
  },
  "language_info": {
   "codemirror_mode": {
    "name": "ipython",
    "version": 3
   },
   "file_extension": ".py",
   "mimetype": "text/x-python",
   "name": "python",
   "nbconvert_exporter": "python",
   "pygments_lexer": "ipython3",
   "version": "3.9.6"
  }
 },
 "nbformat": 4,
 "nbformat_minor": 2
}
